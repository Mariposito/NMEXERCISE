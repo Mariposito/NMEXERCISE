{
  "cells": [
    {
      "cell_type": "markdown",
      "metadata": {
        "id": "7ukRJfO3k1vu"
      },
      "source": [
        "# Important\n",
        "To Execute a cell. Press Shift+Enter or Ctrl+Enter"
      ]
    },
    {
      "cell_type": "code",
      "execution_count": 4,
      "metadata": {
        "collapsed": true,
        "id": "3OgdOoEJk1vv"
      },
      "outputs": [],
      "source": [
        "#load all the necessary libraries\n",
        "%matplotlib inline\n",
        "from matplotlib import pyplot as plt\n",
        "import numpy as np\n",
        "import math"
      ]
    },
    {
      "cell_type": "markdown",
      "metadata": {
        "id": "cz-ZmEOMk1vv"
      },
      "source": [
        "# Python Recap"
      ]
    },
    {
      "cell_type": "markdown",
      "metadata": {
        "id": "46sImQ6Fk1vw"
      },
      "source": [
        "## Printing"
      ]
    },
    {
      "cell_type": "code",
      "execution_count": 5,
      "metadata": {
        "colab": {
          "base_uri": "https://localhost:8080/"
        },
        "id": "sV2Odi97k1vw",
        "outputId": "c1403eb5-02b7-438f-cf79-c11a365600e4"
      },
      "outputs": [
        {
          "output_type": "stream",
          "name": "stdout",
          "text": [
            "3\n"
          ]
        }
      ],
      "source": [
        "# here is how you print something\n",
        "a = 1\n",
        "b = 2\n",
        "c = a + b\n",
        "print(c)\n",
        "\n",
        "#if you want to show line number View --> Toggle Line Number"
      ]
    },
    {
      "cell_type": "markdown",
      "metadata": {
        "id": "0ktKzn2Pk1vw"
      },
      "source": [
        "## Conditional Statement"
      ]
    },
    {
      "cell_type": "code",
      "execution_count": 6,
      "metadata": {
        "colab": {
          "base_uri": "https://localhost:8080/"
        },
        "id": "IZ9ShoQEk1vx",
        "outputId": "d9f141aa-a020-49a9-9230-9a6430d60417"
      },
      "outputs": [
        {
          "output_type": "stream",
          "name": "stdout",
          "text": [
            "3 is less than five\n"
          ]
        }
      ],
      "source": [
        "#conditional statement\n",
        "x = 3\n",
        "if x<5:\n",
        "    print (x, 'is less than five')\n",
        "else:\n",
        "    print (x, 'is not less than five')"
      ]
    },
    {
      "cell_type": "markdown",
      "metadata": {
        "id": "dYY8jJh3k1vx"
      },
      "source": [
        "## Define a function"
      ]
    },
    {
      "cell_type": "code",
      "execution_count": 7,
      "metadata": {
        "colab": {
          "base_uri": "https://localhost:8080/"
        },
        "id": "P4SrJyf3k1vx",
        "outputId": "08dd73a3-22ff-4a51-b79a-8c6800fb5e19"
      },
      "outputs": [
        {
          "output_type": "stream",
          "name": "stdout",
          "text": [
            "21\n"
          ]
        }
      ],
      "source": [
        "#define a function\n",
        "def f(x):\n",
        "    a = 2*x + 1\n",
        "    return a\n",
        "print(f(10))"
      ]
    },
    {
      "cell_type": "markdown",
      "metadata": {
        "id": "4iR3YPgvk1vy"
      },
      "source": [
        "## While Loop"
      ]
    },
    {
      "cell_type": "code",
      "execution_count": 8,
      "metadata": {
        "colab": {
          "base_uri": "https://localhost:8080/"
        },
        "id": "Eq8996jvk1vy",
        "outputId": "400d5b48-992e-4601-df14-5d5bc21b8110"
      },
      "outputs": [
        {
          "output_type": "stream",
          "name": "stdout",
          "text": [
            "12345678910"
          ]
        }
      ],
      "source": [
        "#while loop\n",
        "i = 0\n",
        "while i < 10:\n",
        "    i+=1\n",
        "    print(i, end='') #that's how you avoid new line"
      ]
    },
    {
      "cell_type": "markdown",
      "metadata": {
        "id": "Qm4S3DHOk1vy"
      },
      "source": [
        "## For Loop"
      ]
    },
    {
      "cell_type": "code",
      "execution_count": 9,
      "metadata": {
        "colab": {
          "base_uri": "https://localhost:8080/"
        },
        "id": "oK7mKFuwk1vy",
        "outputId": "4f3c30e3-3d54-4eeb-daf8-4c36bc09b77a"
      },
      "outputs": [
        {
          "output_type": "stream",
          "name": "stdout",
          "text": [
            "123456----\n",
            "0 1\n",
            "1 2\n",
            "2 3\n",
            "3 4\n",
            "4 5\n",
            "5 6\n"
          ]
        }
      ],
      "source": [
        "#here is list and use it\n",
        "a1 = [1,2,3,4,5,6]\n",
        "for x in a1:\n",
        "    print(x, end='')\n",
        "print('----')\n",
        "for i,x in enumerate(a1): #if you also want the index\n",
        "    print(i, x)"
      ]
    },
    {
      "cell_type": "code",
      "execution_count": 10,
      "metadata": {
        "colab": {
          "base_uri": "https://localhost:8080/"
        },
        "id": "1pCL8SZIk1vy",
        "outputId": "d56c51fa-fdfd-4196-a19a-4e6d33285b0c"
      },
      "outputs": [
        {
          "output_type": "stream",
          "name": "stdout",
          "text": [
            "[2, 4, 6, 8, 10, 12]\n"
          ]
        }
      ],
      "source": [
        "#here is how to build one (not so beautiful)\n",
        "#Also notice here that I use a1 from the previous cell.\n",
        "#once you execute the code it's stored in the kernel\n",
        "a2 = []\n",
        "for x in a1:\n",
        "    a2.append(2*x)\n",
        "print (a2)"
      ]
    },
    {
      "cell_type": "markdown",
      "metadata": {
        "id": "1Vrbnc2ok1vz"
      },
      "source": [
        "## For Comprehension\n",
        "We will be using it a lot in this class"
      ]
    },
    {
      "cell_type": "code",
      "execution_count": null,
      "metadata": {
        "id": "EcW291xVk1vz",
        "outputId": "8b97f463-8133-446c-a909-0d8ea92c4f90"
      },
      "outputs": [
        {
          "name": "stdout",
          "output_type": "stream",
          "text": [
            "[3, 5, 7, 9, 11, 13]\n"
          ]
        }
      ],
      "source": [
        "#But this is ugly\n",
        "#let us use list comprehension makes it much easier to read\n",
        "a3 = [2*x+1 for x in a1]\n",
        "print (a3)"
      ]
    },
    {
      "cell_type": "markdown",
      "metadata": {
        "id": "-AUiJiGUk1vz"
      },
      "source": [
        "## Numpy array and broadcast operation"
      ]
    },
    {
      "cell_type": "code",
      "execution_count": null,
      "metadata": {
        "id": "RpQEcgVjk1vz",
        "outputId": "42f943f8-e24e-4bfe-c2d3-7272328c7649"
      },
      "outputs": [
        {
          "name": "stdout",
          "output_type": "stream",
          "text": [
            "[ 0.          0.11111111  0.22222222  0.33333333  0.44444444  0.55555556\n",
            "  0.66666667  0.77777778  0.88888889  1.        ]\n",
            "[ 0.          0.22222222  0.44444444  0.66666667  0.88888889  1.11111111\n",
            "  1.33333333  1.55555556  1.77777778  2.        ]\n",
            "[ 0.          0.01234568  0.04938272  0.11111111  0.19753086  0.30864198\n",
            "  0.44444444  0.60493827  0.79012346  1.        ]\n",
            "[ 1.          1.11751907  1.24884887  1.39561243  1.5596235   1.742909\n",
            "  1.94773404  2.17662993  2.43242545  2.71828183]\n",
            "[ 6 10 14 18 22 26]\n"
          ]
        }
      ],
      "source": [
        "#but since we will be using it a lot we have something much better\n",
        "#it's called numpy array\n",
        "\n",
        "arr = np.linspace(0,1,10) #this gives you 10 number from 0 to 10 equally spaced\n",
        "print (arr)\n",
        "print (2*arr) #array broadcasting magic it does what you think it should\n",
        "print (arr**2)\n",
        "print (np.exp(arr)) #exp function\n",
        "\n",
        "#you can also convert normal list to numpy array if you want\n",
        "arr3 = np.array(a3)\n",
        "print(arr3*2)"
      ]
    },
    {
      "cell_type": "markdown",
      "metadata": {
        "id": "ucDfb8HEk1vz"
      },
      "source": [
        "## Plotting"
      ]
    },
    {
      "cell_type": "code",
      "execution_count": null,
      "metadata": {
        "id": "80lKVjZik1vz",
        "outputId": "1d748a95-ea85-4f78-8ebb-9150a3f9db03"
      },
      "outputs": [
        {
          "data": {
            "image/png": "[encoded data removed]",
            "text/plain": [
              "<matplotlib.figure.Figure at 0x105f0a198>"
            ]
          },
          "metadata": {},
          "output_type": "display_data"
        }
      ],
      "source": [
        "#plotting is easy\n",
        "xs = np.linspace(0,1,100)\n",
        "ys = xs**2\n",
        "plt.plot(xs,ys)\n",
        "plt.savefig('first_plot.pdf') #you can save it too"
      ]
    },
    {
      "cell_type": "code",
      "execution_count": null,
      "metadata": {
        "id": "IAYRuJbWk1v0",
        "outputId": "16d9508e-0279-4b4c-f8bc-2354662c71b8"
      },
      "outputs": [
        {
          "data": {
            "text/plain": [
              "[<matplotlib.lines.Line2D at 0x105f0a518>]"
            ]
          },
          "execution_count": 17,
          "metadata": {},
          "output_type": "execute_result"
        },
        {
          "data": {
            "image/png": "[encoded data removed]",
            "text/plain": [
              "<matplotlib.figure.Figure at 0x105f0a080>"
            ]
          },
          "metadata": {},
          "output_type": "display_data"
        }
      ],
      "source": [
        "plt.plot(xs,ys, color='red') #change the style too\n",
        "plt.plot(xs,xs) #and you can plot two things on the same graph\n",
        "#It can do much more see: http://matplotlib.org/gallery.html"
      ]
    },
    {
      "cell_type": "markdown",
      "metadata": {
        "id": "ri_m7iYtk1v0"
      },
      "source": [
        "# Root Finding"
      ]
    },
    {
      "cell_type": "markdown",
      "metadata": {
        "id": "8dE0wdY_k1v0"
      },
      "source": [
        "## Consider $x = cos(x)$. Our goal is to solve for x that satisfy that.\n",
        "\n",
        "Plot something that helps you solve it."
      ]
    },
    {
      "cell_type": "code",
      "execution_count": 19,
      "metadata": {
        "collapsed": true,
        "colab": {
          "base_uri": "https://localhost:8080/",
          "height": 435
        },
        "id": "LszZHRDIk1v0",
        "outputId": "79986c3b-d118-49ae-dc28-566675e92144"
      },
      "outputs": [
        {
          "output_type": "display_data",
          "data": {
            "text/plain": [
              "<Figure size 640x480 with 1 Axes>"
            ],
            "image/png": "[encoded data removed]"
          },
          "metadata": {}
        }
      ],
      "source": [
        "xs = np.linspace(0,np.pi,100)\n",
        "ys = np.cos(xs)\n",
        "plt.plot(xs,ys,label='cos(x)')\n",
        "plt.plot(xs,xs,label=('x'))\n",
        "plt.xlim(0.73,0.74)\n",
        "plt.ylim(0.73,0.74)\n",
        "plt.legend()\n",
        "plt.grid()"
      ]
    },
    {
      "cell_type": "markdown",
      "metadata": {
        "id": "wgcOc-s8k1v0"
      },
      "source": [
        "## Given the what you did what is your answer?"
      ]
    },
    {
      "cell_type": "code",
      "execution_count": null,
      "metadata": {
        "collapsed": true,
        "id": "2wDrRH2ek1v0"
      },
      "outputs": [],
      "source": []
    },
    {
      "cell_type": "markdown",
      "metadata": {
        "id": "ulNRxwaMk1v0"
      },
      "source": [
        "## How accurate is your answer?\n",
        "$answer = \\ldots \\pm \\ldots$\n",
        "\n",
        "Accuracy is also an important part for numerical algorithm --> How fast we can improve our accuracy."
      ]
    },
    {
      "cell_type": "code",
      "execution_count": null,
      "metadata": {
        "collapsed": true,
        "id": "RkeMMU1Ak1v0"
      },
      "outputs": [],
      "source": []
    },
    {
      "cell_type": "markdown",
      "metadata": {
        "id": "xZsydHcdk1v0"
      },
      "source": [
        "## Make it more accurate"
      ]
    },
    {
      "cell_type": "code",
      "execution_count": null,
      "metadata": {
        "id": "gQcRzd_ek1v0"
      },
      "outputs": [],
      "source": []
    },
    {
      "cell_type": "markdown",
      "metadata": {
        "id": "hv7QUJjok1v1"
      },
      "source": [
        "## Write the equation above as $f(x)= 0$"
      ]
    },
    {
      "cell_type": "code",
      "execution_count": null,
      "metadata": {
        "id": "cwCCJGYSk1v1"
      },
      "outputs": [],
      "source": []
    },
    {
      "cell_type": "markdown",
      "metadata": {
        "id": "MxTNNWChk1v1"
      },
      "source": [
        "# Bisection"
      ]
    },
    {
      "cell_type": "markdown",
      "metadata": {
        "id": "YxeqDVsak1v1"
      },
      "source": [
        "## If you use a bisection method and your starting bound is $x=0.2$ and $x=1.2$, how do you know that there is a solution by looking only at $f(0.2)$ and $f(1.2)$"
      ]
    },
    {
      "cell_type": "code",
      "execution_count": null,
      "metadata": {
        "id": "UJ7Xc3uik1v1"
      },
      "outputs": [],
      "source": []
    },
    {
      "cell_type": "markdown",
      "metadata": {
        "id": "YcnxRbIPk1v1"
      },
      "source": [
        "## Plot the graph along with the two vertical line representing the bound. (use plt.axvline)"
      ]
    },
    {
      "cell_type": "code",
      "execution_count": null,
      "metadata": {
        "id": "Ue3BlFDxk1v1"
      },
      "outputs": [],
      "source": []
    },
    {
      "cell_type": "markdown",
      "metadata": {
        "id": "b_hY1ehtk1v1"
      },
      "source": [
        "## If we guess right in the middle of the two bound what would be the error on our guess?\n",
        "$$\n",
        "    answer = \\ldots \\pm \\ldots\n",
        "$$\n"
      ]
    },
    {
      "cell_type": "code",
      "execution_count": null,
      "metadata": {
        "id": "UMhPmV-Sk1v1"
      },
      "outputs": [],
      "source": []
    },
    {
      "cell_type": "markdown",
      "metadata": {
        "id": "5rpytKFPk1v4"
      },
      "source": [
        "## If you want to make a new pair of bound which pair would you pick? How did you know?"
      ]
    },
    {
      "cell_type": "code",
      "execution_count": null,
      "metadata": {
        "id": "JW_SkfPuk1v4"
      },
      "outputs": [],
      "source": []
    },
    {
      "cell_type": "markdown",
      "metadata": {
        "id": "aq_RrITbk1v4"
      },
      "source": [
        "## Write a function which find solution to f(x)=0 using the method you just discovered. Try plotting as you go."
      ]
    },
    {
      "cell_type": "code",
      "execution_count": null,
      "metadata": {
        "id": "pKfSnCSsk1v4"
      },
      "outputs": [],
      "source": []
    },
    {
      "cell_type": "markdown",
      "metadata": {
        "id": "iAaMsArVk1v4"
      },
      "source": [
        "## Given that the intial bound is of size $S$. After $n$ iterations how accurate is your answer?\n",
        "\n",
        "$$\\text{error}(n) = \\ldots$$"
      ]
    },
    {
      "cell_type": "code",
      "execution_count": null,
      "metadata": {
        "id": "5ihsG7iok1v4"
      },
      "outputs": [],
      "source": []
    },
    {
      "cell_type": "markdown",
      "metadata": {
        "id": "5n8CRxu0k1v4"
      },
      "source": [
        "## Give me the solution to  $x=cos(x)$ that is at most  $10^{−6}$ away from the real answer. Verify your solution graphically."
      ]
    },
    {
      "cell_type": "code",
      "execution_count": null,
      "metadata": {
        "id": "qY9s11jJk1v5"
      },
      "outputs": [],
      "source": []
    },
    {
      "cell_type": "markdown",
      "metadata": {
        "id": "X6jnuyjNk1v5"
      },
      "source": [
        "# Newton's Method\n",
        "Let us do someting a bit more efficient. Suppose that we want to solve  $x^3−x=1$  using Newtons's method with initial guess at  $x=2$ . If you start to get lost, PLOT!."
      ]
    },
    {
      "cell_type": "markdown",
      "metadata": {
        "id": "munmb1t4k1v5"
      },
      "source": [
        "## What is the function that we are trying to find intercept? Plot it."
      ]
    },
    {
      "cell_type": "code",
      "execution_count": null,
      "metadata": {
        "id": "MfRqHK3nk1v5"
      },
      "outputs": [],
      "source": []
    },
    {
      "cell_type": "markdown",
      "metadata": {
        "id": "u6b4g4h1k1v5"
      },
      "source": [
        "## What is the slope of the tangent line at $x=2$"
      ]
    },
    {
      "cell_type": "code",
      "execution_count": null,
      "metadata": {
        "id": "lCV8-4Qrk1v5"
      },
      "outputs": [],
      "source": []
    },
    {
      "cell_type": "markdown",
      "metadata": {
        "id": "_94s4-Auk1v5"
      },
      "source": [
        "## What is the equation for the tangent line at  $x=2$ Plot it along with the function."
      ]
    },
    {
      "cell_type": "code",
      "execution_count": null,
      "metadata": {
        "id": "R22l032Ik1v5"
      },
      "outputs": [],
      "source": []
    },
    {
      "cell_type": "markdown",
      "metadata": {
        "id": "CJDL8A0hk1v5"
      },
      "source": [
        "## What is the intercept for that line? That's your new guess."
      ]
    },
    {
      "cell_type": "code",
      "execution_count": null,
      "metadata": {
        "id": "d2ZwyYpMk1v6"
      },
      "outputs": [],
      "source": []
    },
    {
      "cell_type": "markdown",
      "metadata": {
        "id": "7p24o9Nik1v6"
      },
      "source": [
        "## Now combine everything in to one formula you should get something along the line of\n",
        "\n",
        "$$\n",
        "x_{n+1} = \\ldots - \\frac{\\ldots(x_n)}{\\ldots(x_n)}\n",
        "$$\n",
        "\n",
        "This is called update rule; how you get an improved answer from the previous guess."
      ]
    },
    {
      "cell_type": "code",
      "execution_count": null,
      "metadata": {
        "id": "q7dd149Rk1v6"
      },
      "outputs": [],
      "source": []
    },
    {
      "cell_type": "markdown",
      "metadata": {
        "id": "CgDrJx0Lk1v6"
      },
      "source": [
        "## Newton's method converges very very quickly. We will go through the derivation later on.\n",
        "Now find solution to $x^3−x=1$. Also as a plotting exercise try make something similar to this figure:\n",
        "\n",
        "Here is how I annotate the figure\n",
        "`plt.annotate('x%d'%i, xy=(x, 0), xytext=(x,-0.2), fontsize=18)`\n",
        "\n",
        "<div>\n",
        "<img src=\"attachment:trythis.png\" width=\"600\"/>\n",
        "</div>\n"
      ]
    },
    {
      "cell_type": "code",
      "execution_count": null,
      "metadata": {
        "id": "0APUAF4Yk1v6"
      },
      "outputs": [],
      "source": []
    },
    {
      "cell_type": "markdown",
      "metadata": {
        "id": "209RHe9Gk1v6"
      },
      "source": [
        "## Solve $\\sqrt[3]{x}=0$ by hand. What's $x$?"
      ]
    },
    {
      "cell_type": "code",
      "execution_count": null,
      "metadata": {
        "id": "L_odW_8Xk1v6"
      },
      "outputs": [],
      "source": []
    },
    {
      "cell_type": "markdown",
      "metadata": {
        "id": "5uzc-Lyck1v6"
      },
      "source": [
        "## Try Newton's method on it.\n",
        "Try plotting as you go to see what's going on.\n",
        "\n",
        "Now you learn that even though it converges super fast. It doesn't guarantee to converge."
      ]
    },
    {
      "cell_type": "code",
      "execution_count": null,
      "metadata": {
        "id": "jFfimUsWk1v6"
      },
      "outputs": [],
      "source": []
    },
    {
      "cell_type": "markdown",
      "metadata": {
        "id": "TDKYaAAvk1v6"
      },
      "source": [
        "# Bonus\n"
      ]
    },
    {
      "cell_type": "markdown",
      "metadata": {
        "id": "EHnf5QgEk1v6"
      },
      "source": [
        "## Simplify (1+x)-1"
      ]
    },
    {
      "cell_type": "code",
      "execution_count": null,
      "metadata": {
        "id": "qnGJSWU8k1v7"
      },
      "outputs": [],
      "source": []
    },
    {
      "cell_type": "markdown",
      "metadata": {
        "id": "y8eFRXslk1v7"
      },
      "source": [
        "## Then why is this false"
      ]
    },
    {
      "cell_type": "code",
      "execution_count": null,
      "metadata": {
        "id": "2hmeR7f6k1v7",
        "outputId": "63ab6a7e-f8b0-431d-ddd5-2cae40b63fde"
      },
      "outputs": [
        {
          "name": "stdout",
          "output_type": "stream",
          "text": [
            "1e-10\n",
            "False\n"
          ]
        }
      ],
      "source": [
        "x = 1e-10\n",
        "print (x)\n",
        "print ((1+x)-1 == x)"
      ]
    }
  ],
  "metadata": {
    "hide_input": false,
    "kernelspec": {
      "display_name": "Python 3",
      "language": "python",
      "name": "python3"
    },
    "language_info": {
      "codemirror_mode": {
        "name": "ipython",
        "version": 3
      },
      "file_extension": ".py",
      "mimetype": "text/x-python",
      "name": "python",
      "nbconvert_exporter": "python",
      "pygments_lexer": "ipython3",
      "version": "3.7.3"
    },
    "toc": {
      "colors": {
        "hover_highlight": "#DAA520",
        "running_highlight": "#FF0000",
        "selected_highlight": "#FFD700"
      },
      "moveMenuLeft": true,
      "nav_menu": {
        "height": "84px",
        "width": "252px"
      },
      "navigate_menu": true,
      "number_sections": true,
      "sideBar": true,
      "threshold": 4,
      "toc_cell": false,
      "toc_section_display": "block",
      "toc_window_display": true
    },
    "colab": {
      "provenance": []
    }
  },
  "nbformat": 4,
  "nbformat_minor": 0
}